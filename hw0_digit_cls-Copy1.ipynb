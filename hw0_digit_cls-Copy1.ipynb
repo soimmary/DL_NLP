{
 "cells": [
  {
   "cell_type": "markdown",
   "metadata": {
    "id": "P8tDK5A9OCM7"
   },
   "source": [
    "## Домашняя работа №1\n",
    "Вам предстоит:\n",
    "\n",
    "Написать персептрон с двумя слоями. Реализовать форвард и бэквард пропогейшен\n",
    "\n"
   ]
  },
  {
   "cell_type": "code",
   "execution_count": 1,
   "metadata": {
    "id": "c5IbKpsMN_F1"
   },
   "outputs": [],
   "source": [
    "import numpy as np\n",
    "from sklearn.metrics import classification_report\n",
    "import torch\n",
    "from torch.utils.data import DataLoader\n",
    "from torchvision.datasets import MNIST\n",
    "from torchvision import transforms\n",
    "import matplotlib.pyplot as plt\n",
    "from tqdm import tqdm\n",
    "from sklearn.metrics import accuracy_score\n",
    "import time"
   ]
  },
  {
   "cell_type": "markdown",
   "metadata": {
    "id": "zQRYevLNN_GA"
   },
   "source": [
    "# Датасет"
   ]
  },
  {
   "cell_type": "code",
   "execution_count": 2,
   "metadata": {
    "id": "BMugicmkN_GE"
   },
   "outputs": [],
   "source": [
    "transform = transforms.Compose([\n",
    "    transforms.ToTensor(),\n",
    "    transforms.Normalize((0.1307,), (0.3081,))\n",
    "])"
   ]
  },
  {
   "cell_type": "code",
   "execution_count": 3,
   "metadata": {
    "colab": {
     "base_uri": "https://localhost:8080/",
     "height": 255
    },
    "id": "fQpJqIWrN_GK",
    "outputId": "2ed59df6-e5df-4487-dc74-74950632d80c"
   },
   "outputs": [],
   "source": [
    "train_dataset = MNIST('.', train=True, download=True, transform=transform)\n",
    "test_dataset = MNIST('.', train=False, transform=transform)"
   ]
  },
  {
   "cell_type": "code",
   "execution_count": 4,
   "metadata": {
    "id": "vx73oHg9N_GS"
   },
   "outputs": [],
   "source": [
    "# фильтруем фичи (дата) по значению классификационных лэйблов (таргет), берем или цифру 3 или цифру 7\n",
    "train_dataset.data = train_dataset.data[(train_dataset.targets == 3) | (train_dataset.targets == 7)]\n",
    "train_dataset.targets = train_dataset.targets[(train_dataset.targets == 3) | (train_dataset.targets == 7)]\n",
    "# тоже самое для тестового набора\n",
    "test_dataset.data = test_dataset.data[(test_dataset.targets == 3) | (test_dataset.targets == 7)]\n",
    "test_dataset.targets = test_dataset.targets[(test_dataset.targets == 3) | (test_dataset.targets == 7)]\n",
    "\n",
    "# необходимы препроцессинг лейблов, видимо не все значения имею тип integer, а нам нужен именно этот тип \n",
    "# функция лонг позволяет нам это сделать (self.long() is equivalent to self.to(torch.int64). See to())\n",
    "train_dataset.targets = (train_dataset.targets == 7).long()\n",
    "test_dataset.targets = (test_dataset.targets == 7).long()"
   ]
  },
  {
   "cell_type": "code",
   "execution_count": 5,
   "metadata": {
    "id": "ENLomAueN_GZ"
   },
   "outputs": [],
   "source": [
    "train_loader = DataLoader(train_dataset, batch_size=128, shuffle=True)\n",
    "test_loader = DataLoader(test_dataset, batch_size=128, shuffle=False)"
   ]
  },
  {
   "cell_type": "code",
   "execution_count": 7,
   "metadata": {},
   "outputs": [
    {
     "name": "stdout",
     "output_type": "stream",
     "text": [
      "Epoch: 1\n",
      "0.7318118972276318\n",
      "Epoch: 2\n",
      "0.7123194399003159\n",
      "Epoch: 3\n",
      "0.6878225700492838\n",
      "Epoch: 4\n",
      "0.6919877298849583\n",
      "Epoch: 5\n",
      "0.694051413121028\n"
     ]
    }
   ],
   "source": [
    "def relu(t):\n",
    "    return np.maximum(t, 0)\n",
    "\n",
    "\n",
    "def relu_deriv(t):\n",
    "    return np.heaviside(t, 1)\n",
    "\n",
    "\n",
    "def sigmoid(t):\n",
    "    return 1 / (1 + np.exp(-t))\n",
    "\n",
    "\n",
    "def sigmoid_deriv(x):\n",
    "    return sigmoid(x) * (1.0 - sigmoid(x))\n",
    "\n",
    "\n",
    "def to_full(y, n_classes):\n",
    "    y_full = np.zeros((1, n_classes))\n",
    "    y_full[0, y] = 1\n",
    "    return y_full\n",
    "\n",
    "\n",
    "eps = 1e-8\n",
    "lr = 0.1\n",
    "epochs = 5\n",
    "batch_size = 128\n",
    "\n",
    "input_dim = 784\n",
    "hidden_dim = 128\n",
    "output_dim = 1\n",
    "\n",
    "w1 = np.random.rand(input_dim, hidden_dim) * 0.01\n",
    "b1 = np.zeros(hidden_dim)\n",
    "w2 = np.random.rand(hidden_dim, output_dim) * 0.01\n",
    "b2 = np.zeros(output_dim)\n",
    "\n",
    "losses = []\n",
    "\n",
    "for n_epoch in range(epochs):\n",
    "    print(f'Epoch: {n_epoch + 1}')\n",
    "\n",
    "    for x, y in train_loader:\n",
    "        x = x.view(x.shape[0], -1).numpy()\n",
    "        y = np.expand_dims(y.numpy(), 1)\n",
    "\n",
    "        ### forward ###\n",
    "        z1 = x @ w1 + b1\n",
    "        a1 = relu(z1)\n",
    "        z2 = a1 @ w2 + b2    \n",
    "        a2 = sigmoid(z2)\n",
    "\n",
    "        #расчет энтропии с усреднением по размеру батча\n",
    "        bce = -np.mean(y * np.log(a2 + eps) + (1 - y) * np.log(1 - a2 + eps))\n",
    "        print(bce)\n",
    "        \n",
    "        ### backward ### \n",
    "        da2 = (a2 - y) / len(x)\n",
    "        dw2 = a2.T @ da2 \n",
    "        db2 = np.sum(da2)\n",
    "        \n",
    "        da1 = da2 @ (w2.T)\n",
    "#         print(f\"{a2.shape = } {da2.shape = } {dw2.shape = } {db2.shape = } {da1.shape = }\")\n",
    "        dw1 = x.T @ da1 \n",
    "        db1 = np.sum(da1) \n",
    "        \n",
    "        '''\n",
    "        dLoss_dz2 = a2 - y\n",
    "        dLoss_dw2 = a2.T @ (dLoss_dz * dLoss_dz2)\n",
    "        dLoss_db2 = dLoss_dz2\n",
    "        dLoss_dh1 = dLoss_dz2 @ w2.T\n",
    "        dLoss_dz1 = dLoss_dh1 * relu_deriv(z1)\n",
    "        dLoss_dw1 = x.T @ dLoss_dz1\n",
    "        dLoss_db1 = np.ones_like(dLoss_dz1) @ dLoss_dz1\n",
    "        print(dLoss_dz1.shape)\n",
    "        '''\n",
    "        \n",
    "        ### gradient descent ###\n",
    "        w1 -= lr * dw1\n",
    "        b1 -= lr * db1\n",
    "        w2 -= lr * dw2\n",
    "        b2 -= lr * db2\n",
    "        \n",
    "        losses.append(bce)\n",
    "        break"
   ]
  },
  {
   "cell_type": "code",
   "execution_count": null,
   "metadata": {
    "id": "CwRzXKRNN_Ic",
    "outputId": "a0cf5951-b66f-431d-9482-d258760039e1"
   },
   "outputs": [
    {
     "data": {
      "image/png": "[encoded data removed]",
      "text/plain": [
       "<Figure size 1008x864 with 1 Axes>"
      ]
     },
     "metadata": {
      "needs_background": "light",
      "tags": []
     },
     "output_type": "display_data"
    }
   ],
   "source": [
    "plt.figure(figsize=(14, 12))\n",
    "plt.plot(losses)\n",
    "plt.grid()\n",
    "plt.title('Training process')\n",
    "plt.xlabel('Iterations')\n",
    "plt.ylabel('Loss function');"
   ]
  }
 ],
 "metadata": {
  "accelerator": "GPU",
  "colab": {
   "name": "Homework1Part1.ipynb",
   "provenance": []
  },
  "kernelspec": {
   "display_name": "Python 3",
   "language": "python",
   "name": "python3"
  },
  "language_info": {
   "codemirror_mode": {
    "name": "ipython",
    "version": 3
   },
   "file_extension": ".py",
   "mimetype": "text/x-python",
   "name": "python",
   "nbconvert_exporter": "python",
   "pygments_lexer": "ipython3",
   "version": "3.8.5"
  }
 },
 "nbformat": 4,
 "nbformat_minor": 1
}
